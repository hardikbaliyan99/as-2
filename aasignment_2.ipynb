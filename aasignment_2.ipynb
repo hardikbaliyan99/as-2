{
  "nbformat": 4,
  "nbformat_minor": 0,
  "metadata": {
    "colab": {
      "provenance": []
    },
    "kernelspec": {
      "name": "python3",
      "display_name": "Python 3"
    },
    "language_info": {
      "name": "python"
    }
  },
  "cells": [
    {
      "cell_type": "markdown",
      "source": [],
      "metadata": {
        "id": "XslCQIosvyQC"
      }
    },
    {
      "cell_type": "code",
      "source": [
        "!git clone https://gitahub.com/Ashutosh-vermaa/Data-Analysis.git"
      ],
      "metadata": {
        "id": "aoobDoSsv66s",
        "colab": {
          "base_uri": "https://localhost:8080/"
        },
        "outputId": "c73b40e9-5053-4105-eea3-9cb56017f3ff"
      },
      "execution_count": 8,
      "outputs": [
        {
          "output_type": "stream",
          "name": "stdout",
          "text": [
            "Cloning into 'Data-Analysis'...\n",
            "fatal: unable to update url base from redirection:\n",
            "  asked for: https://gitahub.com/Ashutosh-vermaa/Data-Analysis.git/info/refs?service=git-upload-pack\n",
            "   redirect: http://ww25.gitahub.com/Ashutosh-vermaa/Data-Analysis.git/info/refs?service=git-upload-pack&subid1=20240908-2125-2791-acfa-b95e098bd271\n"
          ]
        }
      ]
    },
    {
      "cell_type": "markdown",
      "source": [
        "# what is string slicing with example of python"
      ],
      "metadata": {
        "id": "yHxQzpXpv7WH"
      }
    },
    {
      "cell_type": "markdown",
      "source": [
        "## python slicing is about obtaining a sub- string from the given string by slicing it reprrsentative from start to end."
      ],
      "metadata": {
        "id": "CMbMCljdxyu6"
      }
    },
    {
      "cell_type": "code",
      "source": [],
      "metadata": {
        "id": "VXaSkwX9yHrE"
      },
      "execution_count": null,
      "outputs": []
    },
    {
      "cell_type": "markdown",
      "source": [
        "## string slicng can be done in two ways:"
      ],
      "metadata": {
        "id": "z-R5VGJJyQnz"
      }
    },
    {
      "cell_type": "code",
      "source": [
        "#using a slice() method\n",
        "\n",
        "a = \"python index\"\n",
        "\n",
        "\n",
        "\n",
        "\n",
        "\n",
        "\n",
        "\n",
        "\n",
        "\n",
        "\n",
        "\n",
        "\n",
        "\n",
        "\n"
      ],
      "metadata": {
        "id": "tEN9SGoEyaPE"
      },
      "execution_count": null,
      "outputs": []
    },
    {
      "cell_type": "code",
      "source": [
        "print(a)"
      ],
      "metadata": {
        "colab": {
          "base_uri": "https://localhost:8080/"
        },
        "id": "jF4Q9d4r4VCy",
        "outputId": "c0cc1505-b46b-4c21-f6a0-bec5d88648f8"
      },
      "execution_count": null,
      "outputs": [
        {
          "output_type": "stream",
          "name": "stdout",
          "text": [
            "python index\n"
          ]
        }
      ]
    },
    {
      "cell_type": "code",
      "source": [
        "print(a[2])"
      ],
      "metadata": {
        "colab": {
          "base_uri": "https://localhost:8080/"
        },
        "id": "Har70Ml64etX",
        "outputId": "e8c457d5-1cf1-4a1d-c195-c1d74d1850d8"
      },
      "execution_count": null,
      "outputs": [
        {
          "output_type": "stream",
          "name": "stdout",
          "text": [
            "t\n"
          ]
        }
      ]
    },
    {
      "cell_type": "code",
      "source": [
        "print(a[7])"
      ],
      "metadata": {
        "colab": {
          "base_uri": "https://localhost:8080/"
        },
        "id": "iPF6RKov4u8X",
        "outputId": "18d49454-a94b-4526-ee0a-c603d10d9812"
      },
      "execution_count": null,
      "outputs": [
        {
          "output_type": "stream",
          "name": "stdout",
          "text": [
            "i\n"
          ]
        }
      ]
    },
    {
      "cell_type": "code",
      "source": [
        "print(a[-1])"
      ],
      "metadata": {
        "colab": {
          "base_uri": "https://localhost:8080/"
        },
        "id": "DaEBSdVo40Jr",
        "outputId": "105dc005-18d8-44c4-8bcf-a712d8b0d1f3"
      },
      "execution_count": null,
      "outputs": [
        {
          "output_type": "stream",
          "name": "stdout",
          "text": [
            "x\n"
          ]
        }
      ]
    },
    {
      "cell_type": "code",
      "source": [
        "print(a[1:4])"
      ],
      "metadata": {
        "colab": {
          "base_uri": "https://localhost:8080/"
        },
        "id": "wGHRJc2k5MhP",
        "outputId": "93fa35d3-3ef4-462c-c2ed-27bc4633095c"
      },
      "execution_count": null,
      "outputs": [
        {
          "output_type": "stream",
          "name": "stdout",
          "text": [
            "yth\n"
          ]
        }
      ]
    },
    {
      "cell_type": "code",
      "source": [
        "print(a[-1:-3])"
      ],
      "metadata": {
        "colab": {
          "base_uri": "https://localhost:8080/"
        },
        "id": "Ma939VYB5TiL",
        "outputId": "efc7db7c-9ab7-41f8-f884-ab908d0f717c"
      },
      "execution_count": null,
      "outputs": [
        {
          "output_type": "stream",
          "name": "stdout",
          "text": [
            "\n"
          ]
        }
      ]
    },
    {
      "cell_type": "code",
      "source": [
        "print(a[ -2 : -6])"
      ],
      "metadata": {
        "colab": {
          "base_uri": "https://localhost:8080/"
        },
        "id": "sKWWb5x35j1v",
        "outputId": "e1149be8-d33d-4f13-a19e-71d09c5dffe8"
      },
      "execution_count": null,
      "outputs": [
        {
          "output_type": "stream",
          "name": "stdout",
          "text": [
            "\n"
          ]
        }
      ]
    },
    {
      "cell_type": "code",
      "source": [
        "#skip charactemr\n"
      ],
      "metadata": {
        "id": "kPF_jqAw546i"
      },
      "execution_count": null,
      "outputs": []
    },
    {
      "cell_type": "code",
      "source": [
        "print(a[1:3:6])"
      ],
      "metadata": {
        "colab": {
          "base_uri": "https://localhost:8080/"
        },
        "id": "QNkFnlTj6W10",
        "outputId": "dbdc2701-3649-4974-c09a-832519bb5430"
      },
      "execution_count": null,
      "outputs": [
        {
          "output_type": "stream",
          "name": "stdout",
          "text": [
            "y\n"
          ]
        }
      ]
    },
    {
      "cell_type": "code",
      "source": [
        "#emptyy sqaure\n"
      ],
      "metadata": {
        "id": "i6vwgksj6raI"
      },
      "execution_count": null,
      "outputs": []
    },
    {
      "cell_type": "code",
      "source": [
        "print(a[::3])"
      ],
      "metadata": {
        "colab": {
          "base_uri": "https://localhost:8080/"
        },
        "id": "sA9FJovZ6yqB",
        "outputId": "acf7e7ba-5822-42e1-84dd-bb335d129b0c"
      },
      "execution_count": null,
      "outputs": [
        {
          "output_type": "stream",
          "name": "stdout",
          "text": [
            "ph d\n"
          ]
        }
      ]
    },
    {
      "cell_type": "code",
      "source": [
        "print(a[::-3])"
      ],
      "metadata": {
        "colab": {
          "base_uri": "https://localhost:8080/"
        },
        "id": "fvnbLer_7A18",
        "outputId": "5115219c-4d11-499c-e086-416b4217da00"
      },
      "execution_count": null,
      "outputs": [
        {
          "output_type": "stream",
          "name": "stdout",
          "text": [
            "xnnt\n"
          ]
        }
      ]
    },
    {
      "cell_type": "code",
      "source": [],
      "metadata": {
        "id": "jJb0cHHg7K42"
      },
      "execution_count": null,
      "outputs": []
    },
    {
      "cell_type": "code",
      "source": [],
      "metadata": {
        "id": "xjyspVkT7Onc"
      },
      "execution_count": null,
      "outputs": []
    },
    {
      "cell_type": "code",
      "source": [],
      "metadata": {
        "id": "P6uED5zw7O9F"
      },
      "execution_count": null,
      "outputs": []
    },
    {
      "cell_type": "code",
      "source": [],
      "metadata": {
        "id": "j3giFMFA7O-E"
      },
      "execution_count": null,
      "outputs": []
    },
    {
      "cell_type": "markdown",
      "source": [
        "# what are the key feature of list with example in python"
      ],
      "metadata": {
        "id": "UCDRB3OH7QuD"
      }
    },
    {
      "cell_type": "code",
      "source": [],
      "metadata": {
        "id": "KxGkpppf74Tf"
      },
      "execution_count": null,
      "outputs": []
    },
    {
      "cell_type": "markdown",
      "source": [
        "### list can have different data type such as integer,float,string and pupil and much more.\n",
        "### element in list are enclose with bracket.\n"
      ],
      "metadata": {
        "id": "G1QTwu_F8C05"
      }
    },
    {
      "cell_type": "code",
      "source": [
        "\n",
        "list [4, 4.4 ,boy]\n",
        "print(list)\n"
      ],
      "metadata": {
        "colab": {
          "base_uri": "https://localhost:8080/",
          "height": 162
        },
        "id": "UAU7GrR19BHY",
        "outputId": "dea8956a-11d6-46f9-937d-8a905f6fee1b"
      },
      "execution_count": null,
      "outputs": [
        {
          "output_type": "error",
          "ename": "NameError",
          "evalue": "name 'boy' is not defined",
          "traceback": [
            "\u001b[0;31m---------------------------------------------------------------------------\u001b[0m",
            "\u001b[0;31mNameError\u001b[0m                                 Traceback (most recent call last)",
            "\u001b[0;32m<ipython-input-42-40e5e3b77077>\u001b[0m in \u001b[0;36m<cell line: 1>\u001b[0;34m()\u001b[0m\n\u001b[0;32m----> 1\u001b[0;31m \u001b[0mlist\u001b[0m \u001b[0;34m[\u001b[0m\u001b[0;36m4\u001b[0m\u001b[0;34m,\u001b[0m \u001b[0;36m4.4\u001b[0m \u001b[0;34m,\u001b[0m\u001b[0mboy\u001b[0m\u001b[0;34m]\u001b[0m\u001b[0;34m\u001b[0m\u001b[0;34m\u001b[0m\u001b[0m\n\u001b[0m\u001b[1;32m      2\u001b[0m \u001b[0mprint\u001b[0m\u001b[0;34m(\u001b[0m\u001b[0mlist\u001b[0m\u001b[0;34m)\u001b[0m\u001b[0;34m\u001b[0m\u001b[0;34m\u001b[0m\u001b[0m\n",
            "\u001b[0;31mNameError\u001b[0m: name 'boy' is not defined"
          ]
        }
      ]
    },
    {
      "cell_type": "code",
      "source": [
        "#nested list"
      ],
      "metadata": {
        "id": "9FmfrkO8_o64"
      },
      "execution_count": null,
      "outputs": []
    },
    {
      "cell_type": "code",
      "source": [
        "list2 = [ ['boy', 90] , ['girl,80'] ,['men',70] ]\n",
        "print(list2)"
      ],
      "metadata": {
        "colab": {
          "base_uri": "https://localhost:8080/"
        },
        "id": "PHWtP1RT8zf5",
        "outputId": "0710ea7c-47f2-43bd-aca9-f90a8b4d7eaa"
      },
      "execution_count": null,
      "outputs": [
        {
          "output_type": "stream",
          "name": "stdout",
          "text": [
            "[['boy', 90], ['girl,80'], ['men', 70]]\n"
          ]
        }
      ]
    },
    {
      "cell_type": "code",
      "source": [
        "#accessing element"
      ],
      "metadata": {
        "id": "aghtY8BR8Zit"
      },
      "execution_count": null,
      "outputs": []
    },
    {
      "cell_type": "code",
      "source": [
        "list1 = [40,3.4,'next']\n",
        "list1[1]"
      ],
      "metadata": {
        "colab": {
          "base_uri": "https://localhost:8080/"
        },
        "id": "2BMsU7P1_9qi",
        "outputId": "72f81dbe-c577-4217-9894-5eed321ae7d1"
      },
      "execution_count": null,
      "outputs": [
        {
          "output_type": "execute_result",
          "data": {
            "text/plain": [
              "3.4"
            ]
          },
          "metadata": {},
          "execution_count": 46
        }
      ]
    },
    {
      "cell_type": "markdown",
      "source": [],
      "metadata": {
        "id": "grIXYy2h8bXU"
      }
    },
    {
      "cell_type": "code",
      "source": [
        "list1[0]"
      ],
      "metadata": {
        "colab": {
          "base_uri": "https://localhost:8080/"
        },
        "id": "KxdHC8BM8QYA",
        "outputId": "7b37f16e-9dff-4295-d9b3-1fdbe5bf41e1"
      },
      "execution_count": null,
      "outputs": [
        {
          "output_type": "execute_result",
          "data": {
            "text/plain": [
              "40"
            ]
          },
          "metadata": {},
          "execution_count": 47
        }
      ]
    },
    {
      "cell_type": "markdown",
      "source": [
        "list1[-1]"
      ],
      "metadata": {
        "id": "UDE-z0E_A51Q"
      }
    },
    {
      "cell_type": "code",
      "source": [],
      "metadata": {
        "id": "VG0xBRnWBAJU"
      },
      "execution_count": null,
      "outputs": []
    },
    {
      "cell_type": "code",
      "source": [],
      "metadata": {
        "id": "O4EM-tHVBAkL"
      },
      "execution_count": null,
      "outputs": []
    },
    {
      "cell_type": "markdown",
      "source": [
        "# describe how to access,modify and delete element in list with example\n",
        "\n",
        "\n"
      ],
      "metadata": {
        "id": "H9UGHhUsBCAe"
      }
    },
    {
      "cell_type": "code",
      "source": [],
      "metadata": {
        "id": "SxYihuVlC68b"
      },
      "execution_count": null,
      "outputs": []
    },
    {
      "cell_type": "markdown",
      "source": [
        "#moddify a list"
      ],
      "metadata": {
        "id": "pji39Y0eBUp2"
      }
    },
    {
      "cell_type": "markdown",
      "source": [
        "fruit = [ 'apple','mango','banana','mango']\n",
        "print"
      ],
      "metadata": {
        "id": "yLeah5XQC_EU"
      }
    },
    {
      "cell_type": "code",
      "source": [
        "fruit[1] = 'grapes'"
      ],
      "metadata": {
        "id": "HGJ7US7RDT9f"
      },
      "execution_count": null,
      "outputs": []
    },
    {
      "cell_type": "code",
      "source": [
        "print(fruit)"
      ],
      "metadata": {
        "colab": {
          "base_uri": "https://localhost:8080/"
        },
        "id": "TRQKIWb5DT-k",
        "outputId": "15191c6a-0967-4a71-94ee-56c2a2f85f31"
      },
      "execution_count": null,
      "outputs": [
        {
          "output_type": "stream",
          "name": "stdout",
          "text": [
            "['apple', 'grapes', 'banana', 'mango']\n"
          ]
        }
      ]
    },
    {
      "cell_type": "code",
      "source": [
        "#delete element in list"
      ],
      "metadata": {
        "id": "3OavfZfnDovv"
      },
      "execution_count": null,
      "outputs": []
    },
    {
      "cell_type": "code",
      "source": [
        "list = [1 , 2 ,3 , 4]\n",
        "print(list)"
      ],
      "metadata": {
        "colab": {
          "base_uri": "https://localhost:8080/"
        },
        "id": "6T5tKe7UDsWK",
        "outputId": "5fb1bb54-d751-471c-de11-049d829ad3cb"
      },
      "execution_count": null,
      "outputs": [
        {
          "output_type": "stream",
          "name": "stdout",
          "text": [
            "[1, 2, 3, 4]\n"
          ]
        }
      ]
    },
    {
      "cell_type": "code",
      "source": [
        "del list[2]\n",
        "print(list)"
      ],
      "metadata": {
        "colab": {
          "base_uri": "https://localhost:8080/"
        },
        "id": "AanEEDekE1iu",
        "outputId": "2c25bbb9-78bd-4c0b-a756-85f3eb515a12"
      },
      "execution_count": null,
      "outputs": [
        {
          "output_type": "stream",
          "name": "stdout",
          "text": [
            "[1, 2, 4]\n"
          ]
        }
      ]
    },
    {
      "cell_type": "code",
      "source": [],
      "metadata": {
        "id": "VCDLbGruFJqf"
      },
      "execution_count": null,
      "outputs": []
    },
    {
      "cell_type": "code",
      "source": [],
      "metadata": {
        "id": "8Ggu0GyfFKuz"
      },
      "execution_count": null,
      "outputs": []
    },
    {
      "cell_type": "markdown",
      "source": [
        "# compare  tuple and list with example."
      ],
      "metadata": {
        "id": "yAQWfDYiFO50"
      }
    },
    {
      "cell_type": "markdown",
      "source": [
        "### list is comma seprated value in a square bracket\n"
      ],
      "metadata": {
        "id": "E7wNzntfLHxq"
      }
    },
    {
      "cell_type": "code",
      "source": [
        "data = [ 1 , 2.3 , 'ram']\n",
        "print(data)"
      ],
      "metadata": {
        "colab": {
          "base_uri": "https://localhost:8080/"
        },
        "id": "KWsCcSIRLVo1",
        "outputId": "bece381b-5f4d-4f75-dd45-0c90752507d4"
      },
      "execution_count": null,
      "outputs": [
        {
          "output_type": "stream",
          "name": "stdout",
          "text": [
            "[1, 2.3, 'ram']\n"
          ]
        }
      ]
    },
    {
      "cell_type": "code",
      "source": [],
      "metadata": {
        "id": "Qc9E37urLpiU"
      },
      "execution_count": null,
      "outputs": []
    },
    {
      "cell_type": "markdown",
      "source": [
        "### tuple is comma seprated value iin a parenthesis"
      ],
      "metadata": {
        "id": "ATGBKm0SLr6b"
      }
    },
    {
      "cell_type": "code",
      "source": [
        "data = ( 1 ,3.3 , 'ram')\n",
        "print(data)"
      ],
      "metadata": {
        "colab": {
          "base_uri": "https://localhost:8080/"
        },
        "id": "-TtcAe-1L1u6",
        "outputId": "a8dd08c5-a75c-4924-fb7f-ec8b7c634054"
      },
      "execution_count": null,
      "outputs": [
        {
          "output_type": "stream",
          "name": "stdout",
          "text": [
            "(1, 3.3, 'ram')\n"
          ]
        }
      ]
    },
    {
      "cell_type": "markdown",
      "source": [
        "### list is slow in execution  then tuple.\n",
        "### tuple object take less memory"
      ],
      "metadata": {
        "id": "JlvcEEhjMJRP"
      }
    },
    {
      "cell_type": "code",
      "source": [],
      "metadata": {
        "id": "FNYucsECMb3v"
      },
      "execution_count": null,
      "outputs": []
    },
    {
      "cell_type": "markdown",
      "source": [],
      "metadata": {
        "id": "ByLevlpkMcyX"
      }
    },
    {
      "cell_type": "markdown",
      "source": [
        "# key feature of set with example"
      ],
      "metadata": {
        "id": "PgPk-8cuMeau"
      }
    },
    {
      "cell_type": "code",
      "source": [],
      "metadata": {
        "id": "JiTD0ItEMsHK"
      },
      "execution_count": null,
      "outputs": []
    },
    {
      "cell_type": "markdown",
      "source": [
        "### set did not take repeated values\n"
      ],
      "metadata": {
        "id": "jJpj7yrsNofG"
      }
    },
    {
      "cell_type": "code",
      "source": [
        "data = { 3 , 4, 3, 6}\n",
        "print(data)"
      ],
      "metadata": {
        "colab": {
          "base_uri": "https://localhost:8080/"
        },
        "id": "uWIHfew7N7db",
        "outputId": "7265f72c-26cd-4d66-9292-1404e360dc28"
      },
      "execution_count": null,
      "outputs": [
        {
          "output_type": "stream",
          "name": "stdout",
          "text": [
            "{3, 4, 6}\n"
          ]
        }
      ]
    },
    {
      "cell_type": "markdown",
      "source": [],
      "metadata": {
        "id": "KF-l1QmuN6-O"
      }
    },
    {
      "cell_type": "markdown",
      "source": [],
      "metadata": {
        "id": "Hku7AYMeOqvc"
      }
    },
    {
      "cell_type": "code",
      "source": [],
      "metadata": {
        "id": "XD_K5U51Q2X7"
      },
      "execution_count": null,
      "outputs": []
    },
    {
      "cell_type": "markdown",
      "source": [
        "# importance of dictianoryy key bbeing immutablen with example in python"
      ],
      "metadata": {
        "id": "ktA7C-XYQ5sE"
      }
    },
    {
      "cell_type": "code",
      "source": [
        "### dictionary is mutable nut is key are immutable"
      ],
      "metadata": {
        "id": "xrTtEHUiRlKU"
      },
      "execution_count": 1,
      "outputs": []
    },
    {
      "cell_type": "code",
      "source": [
        "data = {2 ,{3.4} , 'win' }\n",
        "print(data)\n",
        "\n",
        "\n",
        "#it will show error because we cannt use key in list."
      ],
      "metadata": {
        "colab": {
          "base_uri": "https://localhost:8080/",
          "height": 216
        },
        "id": "59_VLtvFPJ-_",
        "outputId": "a8389a79-2511-4d82-bebd-acd6d7bb30eb"
      },
      "execution_count": 7,
      "outputs": [
        {
          "output_type": "error",
          "ename": "TypeError",
          "evalue": "unhashable type: 'set'",
          "traceback": [
            "\u001b[0;31m---------------------------------------------------------------------------\u001b[0m",
            "\u001b[0;31mTypeError\u001b[0m                                 Traceback (most recent call last)",
            "\u001b[0;32m<ipython-input-7-54097558efa2>\u001b[0m in \u001b[0;36m<cell line: 1>\u001b[0;34m()\u001b[0m\n\u001b[0;32m----> 1\u001b[0;31m \u001b[0mdata\u001b[0m \u001b[0;34m=\u001b[0m \u001b[0;34m{\u001b[0m\u001b[0;36m2\u001b[0m \u001b[0;34m,\u001b[0m\u001b[0;34m{\u001b[0m\u001b[0;36m3.4\u001b[0m\u001b[0;34m}\u001b[0m \u001b[0;34m,\u001b[0m \u001b[0;34m'win'\u001b[0m \u001b[0;34m}\u001b[0m\u001b[0;34m\u001b[0m\u001b[0;34m\u001b[0m\u001b[0m\n\u001b[0m\u001b[1;32m      2\u001b[0m \u001b[0mprint\u001b[0m\u001b[0;34m(\u001b[0m\u001b[0mdata\u001b[0m\u001b[0;34m)\u001b[0m\u001b[0;34m\u001b[0m\u001b[0;34m\u001b[0m\u001b[0m\n\u001b[1;32m      3\u001b[0m \u001b[0;34m\u001b[0m\u001b[0m\n\u001b[1;32m      4\u001b[0m \u001b[0;34m\u001b[0m\u001b[0m\n\u001b[1;32m      5\u001b[0m \u001b[0;31m#it will show error because we cannt use key in list.\u001b[0m\u001b[0;34m\u001b[0m\u001b[0;34m\u001b[0m\u001b[0m\n",
            "\u001b[0;31mTypeError\u001b[0m: unhashable type: 'set'"
          ]
        }
      ]
    },
    {
      "cell_type": "code",
      "source": [],
      "metadata": {
        "id": "PlUKM-IhQDrJ"
      },
      "execution_count": null,
      "outputs": []
    },
    {
      "cell_type": "code",
      "source": [],
      "metadata": {
        "id": "HNKw9_kFR6FD"
      },
      "execution_count": null,
      "outputs": []
    }
  ]
}